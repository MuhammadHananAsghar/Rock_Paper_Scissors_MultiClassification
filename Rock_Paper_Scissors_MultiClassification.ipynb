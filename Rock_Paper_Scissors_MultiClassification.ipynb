{
  "nbformat": 4,
  "nbformat_minor": 0,
  "metadata": {
    "colab": {
      "name": "Rock-Paper-Scissors MultiClassification.ipynb",
      "provenance": []
    },
    "kernelspec": {
      "name": "python3",
      "display_name": "Python 3"
    },
    "language_info": {
      "name": "python"
    },
    "accelerator": "GPU"
  },
  "cells": [
    {
      "cell_type": "markdown",
      "metadata": {
        "id": "U0Yv-Xap6lPz"
      },
      "source": [
        "Training Dataset"
      ]
    },
    {
      "cell_type": "code",
      "metadata": {
        "colab": {
          "base_uri": "https://localhost:8080/"
        },
        "id": "xQZBLxN85oC3",
        "outputId": "8e671c48-6a29-4c5a-bfa4-d1a30df00a80"
      },
      "source": [
        "!wget https://storage.googleapis.com/laurencemoroney-blog.appspot.com/rps.zip"
      ],
      "execution_count": 10,
      "outputs": [
        {
          "output_type": "stream",
          "text": [
            "--2021-07-02 01:56:40--  https://storage.googleapis.com/laurencemoroney-blog.appspot.com/rps.zip\n",
            "Resolving storage.googleapis.com (storage.googleapis.com)... 142.250.73.240, 142.250.65.80, 142.250.188.208, ...\n",
            "Connecting to storage.googleapis.com (storage.googleapis.com)|142.250.73.240|:443... connected.\n",
            "HTTP request sent, awaiting response... 200 OK\n",
            "Length: 200682221 (191M) [application/zip]\n",
            "Saving to: ‘rps.zip’\n",
            "\n",
            "rps.zip             100%[===================>] 191.38M   299MB/s    in 0.6s    \n",
            "\n",
            "2021-07-02 01:56:41 (299 MB/s) - ‘rps.zip’ saved [200682221/200682221]\n",
            "\n"
          ],
          "name": "stdout"
        }
      ]
    },
    {
      "cell_type": "markdown",
      "metadata": {
        "id": "tA-bYkXS6rmX"
      },
      "source": [
        "Testing Dataset"
      ]
    },
    {
      "cell_type": "code",
      "metadata": {
        "colab": {
          "base_uri": "https://localhost:8080/"
        },
        "id": "WIRtEgwN6huM",
        "outputId": "61515953-1569-4cfa-e038-a5c66148a59b"
      },
      "source": [
        "!wget --no-check-certificate https://storage.googleapis.com/laurencemoroney-blog.appspot.com/rps-test-set.zip"
      ],
      "execution_count": 11,
      "outputs": [
        {
          "output_type": "stream",
          "text": [
            "--2021-07-02 01:56:50--  https://storage.googleapis.com/laurencemoroney-blog.appspot.com/rps-test-set.zip\n",
            "Resolving storage.googleapis.com (storage.googleapis.com)... 142.250.73.208, 142.250.73.240, 142.250.65.80, ...\n",
            "Connecting to storage.googleapis.com (storage.googleapis.com)|142.250.73.208|:443... connected.\n",
            "HTTP request sent, awaiting response... 200 OK\n",
            "Length: 29516758 (28M) [application/zip]\n",
            "Saving to: ‘rps-test-set.zip’\n",
            "\n",
            "rps-test-set.zip    100%[===================>]  28.15M  --.-KB/s    in 0.1s    \n",
            "\n",
            "2021-07-02 01:56:50 (236 MB/s) - ‘rps-test-set.zip’ saved [29516758/29516758]\n",
            "\n"
          ],
          "name": "stdout"
        }
      ]
    },
    {
      "cell_type": "markdown",
      "metadata": {
        "id": "_1uNqrwI6z11"
      },
      "source": [
        "Validation Dataset"
      ]
    },
    {
      "cell_type": "code",
      "metadata": {
        "colab": {
          "base_uri": "https://localhost:8080/"
        },
        "id": "4sg85GvR62b0",
        "outputId": "d119ba4b-6aee-4909-f2c8-ce40a4e530a8"
      },
      "source": [
        "!wget --no-check-certificate https://storage.googleapis.com/laurencemoroney-blog.appspot.com/rps-validation.zip"
      ],
      "execution_count": 12,
      "outputs": [
        {
          "output_type": "stream",
          "text": [
            "--2021-07-02 01:57:06--  https://storage.googleapis.com/laurencemoroney-blog.appspot.com/rps-validation.zip\n",
            "Resolving storage.googleapis.com (storage.googleapis.com)... 142.250.81.208, 172.217.7.240, 172.217.13.80, ...\n",
            "Connecting to storage.googleapis.com (storage.googleapis.com)|142.250.81.208|:443... connected.\n",
            "HTTP request sent, awaiting response... 200 OK\n",
            "Length: 6623597 (6.3M) [application/zip]\n",
            "Saving to: ‘rps-validation.zip’\n",
            "\n",
            "\rrps-validation.zip    0%[                    ]       0  --.-KB/s               \rrps-validation.zip  100%[===================>]   6.32M  --.-KB/s    in 0.04s   \n",
            "\n",
            "2021-07-02 01:57:06 (170 MB/s) - ‘rps-validation.zip’ saved [6623597/6623597]\n",
            "\n"
          ],
          "name": "stdout"
        }
      ]
    },
    {
      "cell_type": "code",
      "metadata": {
        "id": "XlTzIjrS7A8S"
      },
      "source": [
        "!unzip /content/rps-test-set.zip"
      ],
      "execution_count": null,
      "outputs": []
    },
    {
      "cell_type": "code",
      "metadata": {
        "id": "3LRRTGdM7z_x"
      },
      "source": [
        "!unzip /content/rps-validation.zip"
      ],
      "execution_count": null,
      "outputs": []
    },
    {
      "cell_type": "code",
      "metadata": {
        "id": "d54qQGz878Sf"
      },
      "source": [
        "!unzip /content/rps.zip"
      ],
      "execution_count": null,
      "outputs": []
    },
    {
      "cell_type": "markdown",
      "metadata": {
        "id": "ai_v4YMZ8Icv"
      },
      "source": [
        "Libraries"
      ]
    },
    {
      "cell_type": "code",
      "metadata": {
        "id": "0_iEUuDa78zs"
      },
      "source": [
        "import tensorflow as tf\n",
        "\n",
        "from tensorflow.keras.layers import Dense\n",
        "from tensorflow.keras.layers import Conv2D\n",
        "from tensorflow.keras.layers import MaxPooling2D\n",
        "from tensorflow.keras.layers import Flatten\n",
        "from tensorflow.keras.layers import Dropout\n",
        "from tensorflow.keras.models import Sequential\n",
        "from tensorflow.keras.preprocessing.image import ImageDataGenerator\n",
        "\n",
        "import numpy as np\n",
        "import matplotlib.pyplot as plt"
      ],
      "execution_count": 1,
      "outputs": []
    },
    {
      "cell_type": "code",
      "metadata": {
        "colab": {
          "base_uri": "https://localhost:8080/"
        },
        "id": "J6C2cEsv8mcx",
        "outputId": "e3286f28-7cf6-4b5a-fec5-471e1bdffb24"
      },
      "source": [
        "testgen = ImageDataGenerator(rescale=1/255.)\n",
        "\n",
        "traingen = ImageDataGenerator(\n",
        "    rescale=1/255.,\n",
        "    horizontal_flip=True,\n",
        "    rotation_range=90,\n",
        "    vertical_flip=True,\n",
        "    zoom_range=0.2,\n",
        "    brightness_range=[0.2,1.0]\n",
        ")\n",
        "\n",
        "train_generator = traingen.flow_from_directory(\n",
        "    '/content/rps',\n",
        "    class_mode='categorical',\n",
        "    batch_size=32,\n",
        "    target_size=(200, 200)\n",
        ")\n",
        "\n",
        "test_generator = testgen.flow_from_directory(\n",
        "    '/content/rps-test-set',\n",
        "    class_mode='categorical',\n",
        "    batch_size=32,\n",
        "    target_size=(200, 200)\n",
        ")"
      ],
      "execution_count": 2,
      "outputs": [
        {
          "output_type": "stream",
          "text": [
            "Found 2520 images belonging to 3 classes.\n",
            "Found 372 images belonging to 3 classes.\n"
          ],
          "name": "stdout"
        }
      ]
    },
    {
      "cell_type": "markdown",
      "metadata": {
        "id": "ctvVy4xe-WP4"
      },
      "source": [
        "Model"
      ]
    },
    {
      "cell_type": "code",
      "metadata": {
        "id": "fKlOit2_9vII"
      },
      "source": [
        "model = Sequential([\n",
        "    Conv2D(filters=16, kernel_size=3, padding='same', input_shape=(200, 200, 3), activation=tf.nn.relu),\n",
        "    MaxPooling2D(pool_size=(2, 2)),\n",
        "\n",
        "    Conv2D(filters=32, kernel_size=3, padding='same', activation=tf.nn.relu),\n",
        "    MaxPooling2D(pool_size=(2, 2)),\n",
        "    \n",
        "    Conv2D(filters=64, kernel_size=3, padding='same', activation=tf.nn.relu),\n",
        "    MaxPooling2D(pool_size=(2, 2)),\n",
        "\n",
        "    Conv2D(filters=128, kernel_size=3, padding='same', activation=tf.nn.relu),\n",
        "    MaxPooling2D(pool_size=(2, 2)),\n",
        "\n",
        "    Dropout(rate=0.2),\n",
        "\n",
        "    Flatten(),\n",
        "\n",
        "    Dense(units=1000, activation=tf.nn.relu),\n",
        "    Dropout(rate=0.25),\n",
        "\n",
        "    Dense(units=3, activation=tf.nn.softmax)\n",
        "\n",
        "])"
      ],
      "execution_count": 3,
      "outputs": []
    },
    {
      "cell_type": "code",
      "metadata": {
        "colab": {
          "base_uri": "https://localhost:8080/"
        },
        "id": "ypnU-ZCo_Sc3",
        "outputId": "0ee984a4-0a3a-42cb-8ed3-9fa53538da65"
      },
      "source": [
        "model.summary()"
      ],
      "execution_count": 4,
      "outputs": [
        {
          "output_type": "stream",
          "text": [
            "Model: \"sequential\"\n",
            "_________________________________________________________________\n",
            "Layer (type)                 Output Shape              Param #   \n",
            "=================================================================\n",
            "conv2d (Conv2D)              (None, 200, 200, 16)      448       \n",
            "_________________________________________________________________\n",
            "max_pooling2d (MaxPooling2D) (None, 100, 100, 16)      0         \n",
            "_________________________________________________________________\n",
            "conv2d_1 (Conv2D)            (None, 100, 100, 32)      4640      \n",
            "_________________________________________________________________\n",
            "max_pooling2d_1 (MaxPooling2 (None, 50, 50, 32)        0         \n",
            "_________________________________________________________________\n",
            "conv2d_2 (Conv2D)            (None, 50, 50, 64)        18496     \n",
            "_________________________________________________________________\n",
            "max_pooling2d_2 (MaxPooling2 (None, 25, 25, 64)        0         \n",
            "_________________________________________________________________\n",
            "conv2d_3 (Conv2D)            (None, 25, 25, 128)       73856     \n",
            "_________________________________________________________________\n",
            "max_pooling2d_3 (MaxPooling2 (None, 12, 12, 128)       0         \n",
            "_________________________________________________________________\n",
            "dropout (Dropout)            (None, 12, 12, 128)       0         \n",
            "_________________________________________________________________\n",
            "flatten (Flatten)            (None, 18432)             0         \n",
            "_________________________________________________________________\n",
            "dense (Dense)                (None, 1000)              18433000  \n",
            "_________________________________________________________________\n",
            "dropout_1 (Dropout)          (None, 1000)              0         \n",
            "_________________________________________________________________\n",
            "dense_1 (Dense)              (None, 3)                 3003      \n",
            "=================================================================\n",
            "Total params: 18,533,443\n",
            "Trainable params: 18,533,443\n",
            "Non-trainable params: 0\n",
            "_________________________________________________________________\n"
          ],
          "name": "stdout"
        }
      ]
    },
    {
      "cell_type": "code",
      "metadata": {
        "id": "4izG4GHW_Ui_"
      },
      "source": [
        "from tensorflow.keras.optimizers import Adam\n",
        "\n",
        "model.compile(loss=tf.keras.losses.CategoricalCrossentropy(), optimizer=Adam(learning_rate=0.001), metrics=['accuracy'])\n"
      ],
      "execution_count": 5,
      "outputs": []
    },
    {
      "cell_type": "code",
      "metadata": {
        "id": "zWkIW9XR_rhz"
      },
      "source": [
        "from tensorflow.keras.callbacks import ModelCheckpoint, EarlyStopping"
      ],
      "execution_count": 6,
      "outputs": []
    },
    {
      "cell_type": "code",
      "metadata": {
        "id": "9n5HgNjNAbUi"
      },
      "source": [
        "checkpoint = ModelCheckpoint(\"model.h5\",\n",
        "                             monitor=\"val_loss\",\n",
        "                             mode=\"min\",\n",
        "                             save_best_only=True,\n",
        "                             verbose = 1)\n",
        "\n",
        "earlystop = EarlyStopping(monitor=\"val_loss\",\n",
        "                         min_delta=0,\n",
        "                         patience=3,\n",
        "                         verbose=1,\n",
        "                         restore_best_weights=True)\n",
        "\n",
        "callbacks = [earlystop, checkpoint]"
      ],
      "execution_count": 7,
      "outputs": []
    },
    {
      "cell_type": "code",
      "metadata": {
        "colab": {
          "base_uri": "https://localhost:8080/"
        },
        "id": "sFlgFzxnAeAa",
        "outputId": "4076c328-d3f7-4fd3-9c01-8b2ea77e581a"
      },
      "source": [
        "model.fit(\n",
        "    train_generator,\n",
        "    epochs=100,\n",
        "    validation_data=test_generator,\n",
        "    verbose=1,\n",
        "    callbacks=[callbacks]\n",
        ")"
      ],
      "execution_count": 8,
      "outputs": [
        {
          "output_type": "stream",
          "text": [
            "Epoch 1/100\n",
            "79/79 [==============================] - 33s 378ms/step - loss: 1.1006 - accuracy: 0.3786 - val_loss: 1.0989 - val_accuracy: 0.5027\n",
            "\n",
            "Epoch 00001: val_loss improved from inf to 1.09889, saving model to model.h5\n",
            "Epoch 2/100\n",
            "79/79 [==============================] - 29s 368ms/step - loss: 0.7697 - accuracy: 0.6623 - val_loss: 0.9480 - val_accuracy: 0.5349\n",
            "\n",
            "Epoch 00002: val_loss improved from 1.09889 to 0.94797, saving model to model.h5\n",
            "Epoch 3/100\n",
            "79/79 [==============================] - 29s 369ms/step - loss: 0.4809 - accuracy: 0.8242 - val_loss: 0.7410 - val_accuracy: 0.6801\n",
            "\n",
            "Epoch 00003: val_loss improved from 0.94797 to 0.74095, saving model to model.h5\n",
            "Epoch 4/100\n",
            "79/79 [==============================] - 29s 369ms/step - loss: 0.2830 - accuracy: 0.9020 - val_loss: 0.6838 - val_accuracy: 0.7312\n",
            "\n",
            "Epoch 00004: val_loss improved from 0.74095 to 0.68380, saving model to model.h5\n",
            "Epoch 5/100\n",
            "79/79 [==============================] - 29s 369ms/step - loss: 0.2283 - accuracy: 0.9266 - val_loss: 0.5845 - val_accuracy: 0.8360\n",
            "\n",
            "Epoch 00005: val_loss improved from 0.68380 to 0.58446, saving model to model.h5\n",
            "Epoch 6/100\n",
            "79/79 [==============================] - 29s 369ms/step - loss: 0.1712 - accuracy: 0.9484 - val_loss: 0.6127 - val_accuracy: 0.8333\n",
            "\n",
            "Epoch 00006: val_loss did not improve from 0.58446\n",
            "Epoch 7/100\n",
            "79/79 [==============================] - 29s 371ms/step - loss: 0.1459 - accuracy: 0.9583 - val_loss: 0.9647 - val_accuracy: 0.7151\n",
            "\n",
            "Epoch 00007: val_loss did not improve from 0.58446\n",
            "Epoch 8/100\n",
            "79/79 [==============================] - 29s 367ms/step - loss: 0.1170 - accuracy: 0.9635 - val_loss: 1.1606 - val_accuracy: 0.7849\n",
            "Restoring model weights from the end of the best epoch.\n",
            "\n",
            "Epoch 00008: val_loss did not improve from 0.58446\n",
            "Epoch 00008: early stopping\n"
          ],
          "name": "stdout"
        },
        {
          "output_type": "execute_result",
          "data": {
            "text/plain": [
              "<tensorflow.python.keras.callbacks.History at 0x7fdcf7ac4350>"
            ]
          },
          "metadata": {
            "tags": []
          },
          "execution_count": 8
        }
      ]
    },
    {
      "cell_type": "code",
      "metadata": {
        "colab": {
          "base_uri": "https://localhost:8080/"
        },
        "id": "3kGlZkt-HypG",
        "outputId": "509d640a-39b6-49eb-8798-64ab942b5d48"
      },
      "source": [
        "train_generator.class_indices"
      ],
      "execution_count": 12,
      "outputs": [
        {
          "output_type": "execute_result",
          "data": {
            "text/plain": [
              "{'paper': 0, 'rock': 1, 'scissors': 2}"
            ]
          },
          "metadata": {
            "tags": []
          },
          "execution_count": 12
        }
      ]
    },
    {
      "cell_type": "code",
      "metadata": {
        "id": "Cj1LL54tIvds"
      },
      "source": [
        "import re\n",
        "import glob"
      ],
      "execution_count": 22,
      "outputs": []
    },
    {
      "cell_type": "code",
      "metadata": {
        "colab": {
          "base_uri": "https://localhost:8080/"
        },
        "id": "Oudt4ZkVIyau",
        "outputId": "50ade3ae-ff5c-4709-e8b6-66826bc45ecf"
      },
      "source": [
        "IMAGES = glob.glob('/content/*.png')\n",
        "len(IMAGES)"
      ],
      "execution_count": 23,
      "outputs": [
        {
          "output_type": "execute_result",
          "data": {
            "text/plain": [
              "33"
            ]
          },
          "metadata": {
            "tags": []
          },
          "execution_count": 23
        }
      ]
    },
    {
      "cell_type": "code",
      "metadata": {
        "id": "NJqBlBpvIKfg"
      },
      "source": [
        "def predict(image):\n",
        "  stri = str(image).split('.')[0].split('/')[-1]\n",
        "  result = re.sub('[0-9]+', ' ', stri)\n",
        "  img = tf.keras.preprocessing.image.load_img(\n",
        "    image, target_size=(200, 200)\n",
        "  )\n",
        "\n",
        "  img_array = tf.keras.preprocessing.image.img_to_array(img)\n",
        "  img_array = tf.expand_dims(img_array, 0)\n",
        "\n",
        "  prediction = model.predict(img_array)\n",
        "\n",
        "  if prediction[0][0] == 1:\n",
        "    print(f'Actual : {result}, Prediction : Paper')\n",
        "  if prediction[0][1] == 1:\n",
        "    print(f'Actual : {result}, Prediction : Rock')\n",
        "  if prediction[0][2] == 1:\n",
        "    print(f'Actual : {result}, Prediction : Scissors')"
      ],
      "execution_count": 26,
      "outputs": []
    },
    {
      "cell_type": "code",
      "metadata": {
        "colab": {
          "base_uri": "https://localhost:8080/"
        },
        "id": "QJXH3xuqJRwK",
        "outputId": "3b1794c1-eab6-4c1a-ba01-a03ba333bc90"
      },
      "source": [
        "for image in IMAGES:\n",
        "  predict(image)"
      ],
      "execution_count": 27,
      "outputs": [
        {
          "output_type": "stream",
          "text": [
            "Actual : scissors , Prediction : Scissors\n",
            "Actual : paper , Prediction : Rock\n",
            "Actual : rock , Prediction : Rock\n",
            "Actual : rock , Prediction : Rock\n",
            "Actual : scissors-hires , Prediction : Scissors\n",
            "Actual : scissors , Prediction : Scissors\n",
            "Actual : scissors , Prediction : Scissors\n",
            "Actual : paper , Prediction : Paper\n",
            "Actual : paper , Prediction : Paper\n",
            "Actual : scissors , Prediction : Scissors\n",
            "Actual : paper , Prediction : Scissors\n",
            "Actual : rock , Prediction : Rock\n",
            "Actual : scissors-hires , Prediction : Scissors\n",
            "Actual : paper-hires , Prediction : Paper\n",
            "Actual : rock-hires , Prediction : Rock\n",
            "Actual : paper , Prediction : Rock\n",
            "Actual : scissors , Prediction : Scissors\n",
            "Actual : rock , Prediction : Rock\n",
            "Actual : rock , Prediction : Rock\n",
            "Actual : scissors , Prediction : Scissors\n",
            "Actual : paper , Prediction : Paper\n",
            "Actual : paper , Prediction : Paper\n",
            "Actual : rock , Prediction : Rock\n",
            "Actual : paper-hires , Prediction : Paper\n",
            "Actual : scissors , Prediction : Scissors\n",
            "Actual : rock , Prediction : Rock\n",
            "Actual : scissors , Prediction : Scissors\n",
            "Actual : rock , Prediction : Rock\n",
            "Actual : paper , Prediction : Paper\n",
            "Actual : scissors , Prediction : Scissors\n",
            "Actual : rock-hires , Prediction : Rock\n",
            "Actual : paper , Prediction : Paper\n"
          ],
          "name": "stdout"
        }
      ]
    },
    {
      "cell_type": "code",
      "metadata": {
        "id": "y8Tx1D8AJp4s"
      },
      "source": [
        ""
      ],
      "execution_count": null,
      "outputs": []
    },
    {
      "cell_type": "code",
      "metadata": {
        "colab": {
          "base_uri": "https://localhost:8080/"
        },
        "id": "zIoN8uumJp7s",
        "outputId": "3d445f52-decc-4e8c-e411-857cff1ca29a"
      },
      "source": [
        "import os\n",
        "\n",
        "\n",
        "def convert_bytes(num):\n",
        "    \"\"\"\n",
        "    this function will convert bytes to MB.... GB... etc\n",
        "    \"\"\"\n",
        "    for x in ['bytes', 'KB', 'MB', 'GB', 'TB']:\n",
        "        if num < 1024.0:\n",
        "            return \"%3.1f %s\" % (num, x)\n",
        "        num /= 1024.0\n",
        "\n",
        "\n",
        "def file_size(file_path):\n",
        "    \"\"\"\n",
        "    this function will return the file size\n",
        "    \"\"\"\n",
        "    if os.path.isfile(file_path):\n",
        "        file_info = os.stat(file_path)\n",
        "        return convert_bytes(file_info.st_size)\n",
        "\n",
        "\n",
        "# Lets check the file size of MS Paint exe \n",
        "# or you can use any file path\n",
        "file_path = \"/content/model.h5\"\n",
        "print(file_size(file_path))"
      ],
      "execution_count": 29,
      "outputs": [
        {
          "output_type": "stream",
          "text": [
            "212.2 MB\n"
          ],
          "name": "stdout"
        }
      ]
    },
    {
      "cell_type": "code",
      "metadata": {
        "id": "7RZ_24w9JtOE"
      },
      "source": [
        ""
      ],
      "execution_count": null,
      "outputs": []
    }
  ]
}